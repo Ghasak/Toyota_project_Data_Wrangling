{
 "cells": [
  {
   "cell_type": "code",
   "execution_count": 1,
   "metadata": {},
   "outputs": [
    {
     "name": "stdout",
     "output_type": "stream",
     "text": [
      "/Users/ghasak/Desktop/Toyota_Project_Data_Wrangling/4_Map_Matching_GPS/00_Total_Crash_Count\n"
     ]
    },
    {
     "data": {
      "text/plain": [
       "<Figure size 1000x700 with 2 Axes>"
      ]
     },
     "metadata": {},
     "output_type": "display_data"
    }
   ],
   "source": [
    "\"\"\"\n",
    "=========================================================\n",
    "          Creating Dummies for and\n",
    "            arrange your dataset\n",
    "            Tue Jun. 19th 2019\n",
    "                 17:03:00,\n",
    "=========================================================\n",
    "    - We will create dummies using the pandas package to\n",
    "        make all categorical variables dummies.\n",
    "    - We will remove the non-necessary columns/variables\n",
    "        from our Survey dataset as we don't need them\n",
    "    -\n",
    "\"\"\"\n",
    "# ==================================================#\n",
    "#           Import Libraries\n",
    "# ==================================================#\n",
    "# Load the Pandas libraries with alias 'pd'\n",
    "import pandas as pd\n",
    "import numpy as np\n",
    "import matplotlib.pyplot as plt\n",
    "from matplotlib import style\n",
    "import os\n",
    "CURRENT_PATH = os.getcwd()\n",
    "\n",
    "print(CURRENT_PATH)\n",
    "os.chdir(CURRENT_PATH)\n",
    "CURRENT_PATH = os.getcwd()\n",
    "# print(f\"This is the relative path {os.path.abspath(os.getcwd())}\")\n",
    "# print(f\"This is the full path {os.path.dirname(os.path.abspath(__file__))}\")\n",
    "\n",
    "df = pd.read_excel(CURRENT_PATH + \"/inner_joint_Int.xlsx\",\n",
    "                                 sheet_name=\"inner_joint_Int\" , index = \"Unnamed: 0\")\n",
    "\n",
    "\n",
    "\n",
    "df['Altitude'] = df['Altitude'].astype(float)\n",
    "df['Longitute'] = df['Longitute'].astype(float)\n",
    "plt.show(df.plot(kind=\"scatter\",\n",
    "                                 x=\"Altitude\",\n",
    "                                 y=\"Longitute\",\n",
    "                                 s=df['Crash_count']*10, label =\"Crash Count\",figsize = (10,7),\n",
    "                                 c=\"Crash_count\", cmap=plt.get_cmap(\"jet\"), colorbar=True,\n",
    "                                 sharex=True,\n",
    "                                 alpha=0.8))"
   ]
  },
  {
   "cell_type": "code",
   "execution_count": null,
   "metadata": {},
   "outputs": [],
   "source": []
  }
 ],
 "metadata": {
  "kernelspec": {
   "display_name": "Python 3",
   "language": "python",
   "name": "python3"
  },
  "language_info": {
   "codemirror_mode": {
    "name": "ipython",
    "version": 3
   },
   "file_extension": ".py",
   "mimetype": "text/x-python",
   "name": "python",
   "nbconvert_exporter": "python",
   "pygments_lexer": "ipython3",
   "version": "3.7.3"
  }
 },
 "nbformat": 4,
 "nbformat_minor": 2
}

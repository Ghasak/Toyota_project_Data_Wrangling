{
 "cells": [
  {
   "cell_type": "code",
   "execution_count": 1,
   "metadata": {},
   "outputs": [
    {
     "name": "stdout",
     "output_type": "stream",
     "text": [
      "/Users/ghasak/Desktop/Toyota_Project_Data_Wrangling/4_Map_Matching_GPS/00_Total_Crash_Count\n"
     ]
    },
    {
     "ename": "FileNotFoundError",
     "evalue": "[Errno 2] No such file or directory: 'apikey.txt'",
     "output_type": "error",
     "traceback": [
      "\u001b[0;31m---------------------------------------------------------------------------\u001b[0m",
      "\u001b[0;31mFileNotFoundError\u001b[0m                         Traceback (most recent call last)",
      "\u001b[0;32m<ipython-input-1-0caea8beb1bc>\u001b[0m in \u001b[0;36m<module>\u001b[0;34m\u001b[0m\n\u001b[1;32m     33\u001b[0m \u001b[0;34m\u001b[0m\u001b[0m\n\u001b[1;32m     34\u001b[0m \u001b[0;34m\u001b[0m\u001b[0m\n\u001b[0;32m---> 35\u001b[0;31m \u001b[0;32mwith\u001b[0m \u001b[0mopen\u001b[0m\u001b[0;34m(\u001b[0m\u001b[0;34m'apikey.txt'\u001b[0m\u001b[0;34m)\u001b[0m \u001b[0;32mas\u001b[0m \u001b[0mf\u001b[0m\u001b[0;34m:\u001b[0m\u001b[0;34m\u001b[0m\u001b[0;34m\u001b[0m\u001b[0m\n\u001b[0m\u001b[1;32m     36\u001b[0m     \u001b[0mapi_key\u001b[0m \u001b[0;34m=\u001b[0m \u001b[0mf\u001b[0m\u001b[0;34m.\u001b[0m\u001b[0mreadline\u001b[0m\u001b[0;34m(\u001b[0m\u001b[0;34m)\u001b[0m\u001b[0;34m\u001b[0m\u001b[0;34m\u001b[0m\u001b[0m\n\u001b[1;32m     37\u001b[0m     \u001b[0mf\u001b[0m\u001b[0;34m.\u001b[0m\u001b[0mclose\u001b[0m\u001b[0;34m\u001b[0m\u001b[0;34m\u001b[0m\u001b[0m\n",
      "\u001b[0;31mFileNotFoundError\u001b[0m: [Errno 2] No such file or directory: 'apikey.txt'"
     ]
    }
   ],
   "source": [
    "\"\"\"\n",
    "=========================================================\n",
    "          Creating Dummies for and\n",
    "            arrange your dataset\n",
    "            Tue Jun. 19th 2019\n",
    "                 17:03:00,\n",
    "=========================================================\n",
    "    - We will create dummies using the pandas package to\n",
    "        make all categorical variables dummies.\n",
    "    - We will remove the non-necessary columns/variables\n",
    "        from our Survey dataset as we don't need them\n",
    "    -\n",
    "\"\"\"\n",
    "# ==================================================#\n",
    "#           Import Libraries\n",
    "# ==================================================#\n",
    "# Load the Pandas libraries with alias 'pd'\n",
    "import pandas as pd\n",
    "import numpy as np\n",
    "import matplotlib.pyplot as plt\n",
    "from matplotlib import style\n",
    "import os\n",
    "CURRENT_PATH = os.getcwd()\n",
    "\n",
    "print(CURRENT_PATH)\n",
    "os.chdir(CURRENT_PATH)\n",
    "CURRENT_PATH = os.getcwd()\n",
    "# # print(f\"This is the relative path {os.path.abspath(os.getcwd())}\")\n",
    "# # print(f\"This is the full path {os.path.dirname(os.path.abspath(__file__))}\")\n",
    "\n",
    "# df = pd.read_excel(CURRENT_PATH + \"/inner_joint_Int.xlsx\",\n",
    "#                                  sheet_name=\"inner_joint_Int\" , index = \"Unnamed: 0\")\n",
    "\n",
    "\n",
    "with open('apikey.txt') as f:\n",
    "    api_key = f.readline()\n",
    "    f.close\n",
    "\n",
    "import gmaps\n",
    "gmaps.configure(api_key=api_key)"
   ]
  },
  {
   "cell_type": "code",
   "execution_count": 2,
   "metadata": {},
   "outputs": [
    {
     "name": "stdout",
     "output_type": "stream",
     "text": [
      "/Users/ghasak/Desktop/Toyota_Project_Data_Wrangling/4_Map_Matching_GPS/00_Total_Crash_Count\n"
     ]
    }
   ],
   "source": [
    "\"\"\"\n",
    "=========================================================\n",
    "          Creating Dummies for and\n",
    "            arrange your dataset\n",
    "            Tue Jun. 19th 2019\n",
    "                 17:03:00,\n",
    "=========================================================\n",
    "    - We will create dummies using the pandas package to\n",
    "        make all categorical variables dummies.\n",
    "    - We will remove the non-necessary columns/variables\n",
    "        from our Survey dataset as we don't need them\n",
    "    -\n",
    "\"\"\"\n",
    "# ==================================================#\n",
    "#           Import Libraries\n",
    "# ==================================================#\n",
    "# Load the Pandas libraries with alias 'pd'\n",
    "import pandas as pd\n",
    "import numpy as np\n",
    "import matplotlib.pyplot as plt\n",
    "from matplotlib import style\n",
    "import os\n",
    "CURRENT_PATH = os.getcwd()\n",
    "\n",
    "print(CURRENT_PATH)\n",
    "os.chdir(CURRENT_PATH)\n",
    "CURRENT_PATH = os.getcwd()\n",
    "# # print(f\"This is the relative path {os.path.abspath(os.getcwd())}\")\n",
    "# # print(f\"This is the full path {os.path.dirname(os.path.abspath(__file__))}\")\n",
    "\n",
    "# df = pd.read_excel(CURRENT_PATH + \"/inner_joint_Int.xlsx\",\n",
    "#                                  sheet_name=\"inner_joint_Int\" , index = \"Unnamed: 0\")\n",
    "\n",
    "\n",
    "with open('api_key.txt') as f:\n",
    "    api_key = f.readline()\n",
    "    f.close\n",
    "\n",
    "import gmaps\n",
    "gmaps.configure(api_key=api_key)\n"
   ]
  },
  {
   "cell_type": "code",
   "execution_count": 5,
   "metadata": {},
   "outputs": [
    {
     "data": {
      "application/vnd.jupyter.widget-view+json": {
       "model_id": "67ac20e5771446998bb6cc6a5186535d",
       "version_major": 2,
       "version_minor": 0
      },
      "text/plain": [
       "Figure(layout=FigureLayout(height='420px'))"
      ]
     },
     "metadata": {},
     "output_type": "display_data"
    }
   ],
   "source": [
    "new_york_coordinates = (40.75, -74.00)\n",
    "gmaps.figure(center=new_york_coordinates, zoom_level=12)"
   ]
  },
  {
   "cell_type": "code",
   "execution_count": null,
   "metadata": {},
   "outputs": [],
   "source": []
  }
 ],
 "metadata": {
  "kernelspec": {
   "display_name": "Python 3",
   "language": "python",
   "name": "python3"
  },
  "language_info": {
   "codemirror_mode": {
    "name": "ipython",
    "version": 3
   },
   "file_extension": ".py",
   "mimetype": "text/x-python",
   "name": "python",
   "nbconvert_exporter": "python",
   "pygments_lexer": "ipython3",
   "version": "3.7.3"
  }
 },
 "nbformat": 4,
 "nbformat_minor": 2
}
